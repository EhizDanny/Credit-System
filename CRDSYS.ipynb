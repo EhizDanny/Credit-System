{
  "nbformat": 4,
  "nbformat_minor": 0,
  "metadata": {
    "colab": {
      "name": "CRDSYS.ipynb",
      "provenance": [],
      "collapsed_sections": []
    },
    "kernelspec": {
      "name": "python3",
      "display_name": "Python 3"
    },
    "language_info": {
      "name": "python"
    }
  },
  "cells": [
    {
      "cell_type": "markdown",
      "source": [
        "Banks play a crucial role in market economies. They decide who can get finance and on what terms and can make or break investment decisions. For markets and society to function, individuals and companies need access to credit. \n",
        "\n",
        "Credit scoring algorithms, which make a guess at the probability of default, are the method banks use to determine whether or not a loan should be granted. This competition requires participants to improve on the state of the art in credit scoring, by predicting the probability that somebody will experience financial distress in the next two years.\n",
        "\n",
        "The goal of this project is to build a model that borrowers can use to help make the best financial decisions."
      ],
      "metadata": {
        "id": "S8yWyLM6DdH7"
      }
    },
    {
      "cell_type": "code",
      "execution_count": 207,
      "metadata": {
        "id": "zS3BJzFvKhnu"
      },
      "outputs": [],
      "source": [
        "import pandas as pd\n",
        "import numpy as np\n",
        "import matplotlib.pyplot as plt\n",
        "%matplotlib inline\n",
        "import seaborn as sns"
      ]
    },
    {
      "cell_type": "code",
      "source": [
        "from google.colab import drive\n",
        "drive.mount('/content/drive')\n"
      ],
      "metadata": {
        "id": "zNHhpTGlKzyk",
        "colab": {
          "base_uri": "https://localhost:8080/"
        },
        "outputId": "0653ae63-64f9-4903-a739-e6b70ca05e1c"
      },
      "execution_count": 208,
      "outputs": [
        {
          "output_type": "stream",
          "name": "stdout",
          "text": [
            "Drive already mounted at /content/drive; to attempt to forcibly remount, call drive.mount(\"/content/drive\", force_remount=True).\n"
          ]
        }
      ]
    },
    {
      "cell_type": "code",
      "source": [
        "# import dataset\n",
        "train_data = pd.read_csv('/content/drive/MyDrive/Colab Notebooks/Dataset/GiveMeSomeCredit/cs-test.csv')\n",
        "target_data = pd.read_csv('/content/drive/MyDrive/Colab Notebooks/Dataset/GiveMeSomeCredit/sampleEntry.csv')"
      ],
      "metadata": {
        "id": "Itv4xPcZK0rf"
      },
      "execution_count": 209,
      "outputs": []
    },
    {
      "cell_type": "code",
      "source": [
        "# Display Dataset\n",
        "train_data"
      ],
      "metadata": {
        "id": "_-8TVl_TPkav",
        "colab": {
          "base_uri": "https://localhost:8080/",
          "height": 504
        },
        "outputId": "64f92104-3f63-40e5-bb03-e6741de12f48"
      },
      "execution_count": 210,
      "outputs": [
        {
          "output_type": "execute_result",
          "data": {
            "text/plain": [
              "        Unnamed: 0  SeriousDlqin2yrs  RevolvingUtilizationOfUnsecuredLines  \\\n",
              "0                1               NaN                              0.885519   \n",
              "1                2               NaN                              0.463295   \n",
              "2                3               NaN                              0.043275   \n",
              "3                4               NaN                              0.280308   \n",
              "4                5               NaN                              1.000000   \n",
              "...            ...               ...                                   ...   \n",
              "101498      101499               NaN                              0.282653   \n",
              "101499      101500               NaN                              0.922156   \n",
              "101500      101501               NaN                              0.081596   \n",
              "101501      101502               NaN                              0.335457   \n",
              "101502      101503               NaN                              0.441842   \n",
              "\n",
              "        age  NumberOfTime30-59DaysPastDueNotWorse    DebtRatio  MonthlyIncome  \\\n",
              "0        43                                     0     0.177513         5700.0   \n",
              "1        57                                     0     0.527237         9141.0   \n",
              "2        59                                     0     0.687648         5083.0   \n",
              "3        38                                     1     0.925961         3200.0   \n",
              "4        27                                     0     0.019917         3865.0   \n",
              "...     ...                                   ...          ...            ...   \n",
              "101498   24                                     0     0.068522         1400.0   \n",
              "101499   36                                     3     0.934217         7615.0   \n",
              "101500   70                                     0   836.000000            NaN   \n",
              "101501   56                                     0  3568.000000            NaN   \n",
              "101502   29                                     0     0.198918         5916.0   \n",
              "\n",
              "        NumberOfOpenCreditLinesAndLoans  NumberOfTimes90DaysLate  \\\n",
              "0                                     4                        0   \n",
              "1                                    15                        0   \n",
              "2                                    12                        0   \n",
              "3                                     7                        0   \n",
              "4                                     4                        0   \n",
              "...                                 ...                      ...   \n",
              "101498                                5                        0   \n",
              "101499                                8                        0   \n",
              "101500                                3                        0   \n",
              "101501                                8                        0   \n",
              "101502                               12                        0   \n",
              "\n",
              "        NumberRealEstateLoansOrLines  NumberOfTime60-89DaysPastDueNotWorse  \\\n",
              "0                                  0                                     0   \n",
              "1                                  4                                     0   \n",
              "2                                  1                                     0   \n",
              "3                                  2                                     0   \n",
              "4                                  0                                     0   \n",
              "...                              ...                                   ...   \n",
              "101498                             0                                     0   \n",
              "101499                             2                                     0   \n",
              "101500                             0                                     0   \n",
              "101501                             2                                     1   \n",
              "101502                             0                                     0   \n",
              "\n",
              "        NumberOfDependents  \n",
              "0                      0.0  \n",
              "1                      2.0  \n",
              "2                      2.0  \n",
              "3                      0.0  \n",
              "4                      1.0  \n",
              "...                    ...  \n",
              "101498                 0.0  \n",
              "101499                 4.0  \n",
              "101500                 NaN  \n",
              "101501                 3.0  \n",
              "101502                 0.0  \n",
              "\n",
              "[101503 rows x 12 columns]"
            ],
            "text/html": [
              "\n",
              "  <div id=\"df-cc319e44-8f3b-438f-9e41-5860944ec57f\">\n",
              "    <div class=\"colab-df-container\">\n",
              "      <div>\n",
              "<style scoped>\n",
              "    .dataframe tbody tr th:only-of-type {\n",
              "        vertical-align: middle;\n",
              "    }\n",
              "\n",
              "    .dataframe tbody tr th {\n",
              "        vertical-align: top;\n",
              "    }\n",
              "\n",
              "    .dataframe thead th {\n",
              "        text-align: right;\n",
              "    }\n",
              "</style>\n",
              "<table border=\"1\" class=\"dataframe\">\n",
              "  <thead>\n",
              "    <tr style=\"text-align: right;\">\n",
              "      <th></th>\n",
              "      <th>Unnamed: 0</th>\n",
              "      <th>SeriousDlqin2yrs</th>\n",
              "      <th>RevolvingUtilizationOfUnsecuredLines</th>\n",
              "      <th>age</th>\n",
              "      <th>NumberOfTime30-59DaysPastDueNotWorse</th>\n",
              "      <th>DebtRatio</th>\n",
              "      <th>MonthlyIncome</th>\n",
              "      <th>NumberOfOpenCreditLinesAndLoans</th>\n",
              "      <th>NumberOfTimes90DaysLate</th>\n",
              "      <th>NumberRealEstateLoansOrLines</th>\n",
              "      <th>NumberOfTime60-89DaysPastDueNotWorse</th>\n",
              "      <th>NumberOfDependents</th>\n",
              "    </tr>\n",
              "  </thead>\n",
              "  <tbody>\n",
              "    <tr>\n",
              "      <th>0</th>\n",
              "      <td>1</td>\n",
              "      <td>NaN</td>\n",
              "      <td>0.885519</td>\n",
              "      <td>43</td>\n",
              "      <td>0</td>\n",
              "      <td>0.177513</td>\n",
              "      <td>5700.0</td>\n",
              "      <td>4</td>\n",
              "      <td>0</td>\n",
              "      <td>0</td>\n",
              "      <td>0</td>\n",
              "      <td>0.0</td>\n",
              "    </tr>\n",
              "    <tr>\n",
              "      <th>1</th>\n",
              "      <td>2</td>\n",
              "      <td>NaN</td>\n",
              "      <td>0.463295</td>\n",
              "      <td>57</td>\n",
              "      <td>0</td>\n",
              "      <td>0.527237</td>\n",
              "      <td>9141.0</td>\n",
              "      <td>15</td>\n",
              "      <td>0</td>\n",
              "      <td>4</td>\n",
              "      <td>0</td>\n",
              "      <td>2.0</td>\n",
              "    </tr>\n",
              "    <tr>\n",
              "      <th>2</th>\n",
              "      <td>3</td>\n",
              "      <td>NaN</td>\n",
              "      <td>0.043275</td>\n",
              "      <td>59</td>\n",
              "      <td>0</td>\n",
              "      <td>0.687648</td>\n",
              "      <td>5083.0</td>\n",
              "      <td>12</td>\n",
              "      <td>0</td>\n",
              "      <td>1</td>\n",
              "      <td>0</td>\n",
              "      <td>2.0</td>\n",
              "    </tr>\n",
              "    <tr>\n",
              "      <th>3</th>\n",
              "      <td>4</td>\n",
              "      <td>NaN</td>\n",
              "      <td>0.280308</td>\n",
              "      <td>38</td>\n",
              "      <td>1</td>\n",
              "      <td>0.925961</td>\n",
              "      <td>3200.0</td>\n",
              "      <td>7</td>\n",
              "      <td>0</td>\n",
              "      <td>2</td>\n",
              "      <td>0</td>\n",
              "      <td>0.0</td>\n",
              "    </tr>\n",
              "    <tr>\n",
              "      <th>4</th>\n",
              "      <td>5</td>\n",
              "      <td>NaN</td>\n",
              "      <td>1.000000</td>\n",
              "      <td>27</td>\n",
              "      <td>0</td>\n",
              "      <td>0.019917</td>\n",
              "      <td>3865.0</td>\n",
              "      <td>4</td>\n",
              "      <td>0</td>\n",
              "      <td>0</td>\n",
              "      <td>0</td>\n",
              "      <td>1.0</td>\n",
              "    </tr>\n",
              "    <tr>\n",
              "      <th>...</th>\n",
              "      <td>...</td>\n",
              "      <td>...</td>\n",
              "      <td>...</td>\n",
              "      <td>...</td>\n",
              "      <td>...</td>\n",
              "      <td>...</td>\n",
              "      <td>...</td>\n",
              "      <td>...</td>\n",
              "      <td>...</td>\n",
              "      <td>...</td>\n",
              "      <td>...</td>\n",
              "      <td>...</td>\n",
              "    </tr>\n",
              "    <tr>\n",
              "      <th>101498</th>\n",
              "      <td>101499</td>\n",
              "      <td>NaN</td>\n",
              "      <td>0.282653</td>\n",
              "      <td>24</td>\n",
              "      <td>0</td>\n",
              "      <td>0.068522</td>\n",
              "      <td>1400.0</td>\n",
              "      <td>5</td>\n",
              "      <td>0</td>\n",
              "      <td>0</td>\n",
              "      <td>0</td>\n",
              "      <td>0.0</td>\n",
              "    </tr>\n",
              "    <tr>\n",
              "      <th>101499</th>\n",
              "      <td>101500</td>\n",
              "      <td>NaN</td>\n",
              "      <td>0.922156</td>\n",
              "      <td>36</td>\n",
              "      <td>3</td>\n",
              "      <td>0.934217</td>\n",
              "      <td>7615.0</td>\n",
              "      <td>8</td>\n",
              "      <td>0</td>\n",
              "      <td>2</td>\n",
              "      <td>0</td>\n",
              "      <td>4.0</td>\n",
              "    </tr>\n",
              "    <tr>\n",
              "      <th>101500</th>\n",
              "      <td>101501</td>\n",
              "      <td>NaN</td>\n",
              "      <td>0.081596</td>\n",
              "      <td>70</td>\n",
              "      <td>0</td>\n",
              "      <td>836.000000</td>\n",
              "      <td>NaN</td>\n",
              "      <td>3</td>\n",
              "      <td>0</td>\n",
              "      <td>0</td>\n",
              "      <td>0</td>\n",
              "      <td>NaN</td>\n",
              "    </tr>\n",
              "    <tr>\n",
              "      <th>101501</th>\n",
              "      <td>101502</td>\n",
              "      <td>NaN</td>\n",
              "      <td>0.335457</td>\n",
              "      <td>56</td>\n",
              "      <td>0</td>\n",
              "      <td>3568.000000</td>\n",
              "      <td>NaN</td>\n",
              "      <td>8</td>\n",
              "      <td>0</td>\n",
              "      <td>2</td>\n",
              "      <td>1</td>\n",
              "      <td>3.0</td>\n",
              "    </tr>\n",
              "    <tr>\n",
              "      <th>101502</th>\n",
              "      <td>101503</td>\n",
              "      <td>NaN</td>\n",
              "      <td>0.441842</td>\n",
              "      <td>29</td>\n",
              "      <td>0</td>\n",
              "      <td>0.198918</td>\n",
              "      <td>5916.0</td>\n",
              "      <td>12</td>\n",
              "      <td>0</td>\n",
              "      <td>0</td>\n",
              "      <td>0</td>\n",
              "      <td>0.0</td>\n",
              "    </tr>\n",
              "  </tbody>\n",
              "</table>\n",
              "<p>101503 rows × 12 columns</p>\n",
              "</div>\n",
              "      <button class=\"colab-df-convert\" onclick=\"convertToInteractive('df-cc319e44-8f3b-438f-9e41-5860944ec57f')\"\n",
              "              title=\"Convert this dataframe to an interactive table.\"\n",
              "              style=\"display:none;\">\n",
              "        \n",
              "  <svg xmlns=\"http://www.w3.org/2000/svg\" height=\"24px\"viewBox=\"0 0 24 24\"\n",
              "       width=\"24px\">\n",
              "    <path d=\"M0 0h24v24H0V0z\" fill=\"none\"/>\n",
              "    <path d=\"M18.56 5.44l.94 2.06.94-2.06 2.06-.94-2.06-.94-.94-2.06-.94 2.06-2.06.94zm-11 1L8.5 8.5l.94-2.06 2.06-.94-2.06-.94L8.5 2.5l-.94 2.06-2.06.94zm10 10l.94 2.06.94-2.06 2.06-.94-2.06-.94-.94-2.06-.94 2.06-2.06.94z\"/><path d=\"M17.41 7.96l-1.37-1.37c-.4-.4-.92-.59-1.43-.59-.52 0-1.04.2-1.43.59L10.3 9.45l-7.72 7.72c-.78.78-.78 2.05 0 2.83L4 21.41c.39.39.9.59 1.41.59.51 0 1.02-.2 1.41-.59l7.78-7.78 2.81-2.81c.8-.78.8-2.07 0-2.86zM5.41 20L4 18.59l7.72-7.72 1.47 1.35L5.41 20z\"/>\n",
              "  </svg>\n",
              "      </button>\n",
              "      \n",
              "  <style>\n",
              "    .colab-df-container {\n",
              "      display:flex;\n",
              "      flex-wrap:wrap;\n",
              "      gap: 12px;\n",
              "    }\n",
              "\n",
              "    .colab-df-convert {\n",
              "      background-color: #E8F0FE;\n",
              "      border: none;\n",
              "      border-radius: 50%;\n",
              "      cursor: pointer;\n",
              "      display: none;\n",
              "      fill: #1967D2;\n",
              "      height: 32px;\n",
              "      padding: 0 0 0 0;\n",
              "      width: 32px;\n",
              "    }\n",
              "\n",
              "    .colab-df-convert:hover {\n",
              "      background-color: #E2EBFA;\n",
              "      box-shadow: 0px 1px 2px rgba(60, 64, 67, 0.3), 0px 1px 3px 1px rgba(60, 64, 67, 0.15);\n",
              "      fill: #174EA6;\n",
              "    }\n",
              "\n",
              "    [theme=dark] .colab-df-convert {\n",
              "      background-color: #3B4455;\n",
              "      fill: #D2E3FC;\n",
              "    }\n",
              "\n",
              "    [theme=dark] .colab-df-convert:hover {\n",
              "      background-color: #434B5C;\n",
              "      box-shadow: 0px 1px 3px 1px rgba(0, 0, 0, 0.15);\n",
              "      filter: drop-shadow(0px 1px 2px rgba(0, 0, 0, 0.3));\n",
              "      fill: #FFFFFF;\n",
              "    }\n",
              "  </style>\n",
              "\n",
              "      <script>\n",
              "        const buttonEl =\n",
              "          document.querySelector('#df-cc319e44-8f3b-438f-9e41-5860944ec57f button.colab-df-convert');\n",
              "        buttonEl.style.display =\n",
              "          google.colab.kernel.accessAllowed ? 'block' : 'none';\n",
              "\n",
              "        async function convertToInteractive(key) {\n",
              "          const element = document.querySelector('#df-cc319e44-8f3b-438f-9e41-5860944ec57f');\n",
              "          const dataTable =\n",
              "            await google.colab.kernel.invokeFunction('convertToInteractive',\n",
              "                                                     [key], {});\n",
              "          if (!dataTable) return;\n",
              "\n",
              "          const docLinkHtml = 'Like what you see? Visit the ' +\n",
              "            '<a target=\"_blank\" href=https://colab.research.google.com/notebooks/data_table.ipynb>data table notebook</a>'\n",
              "            + ' to learn more about interactive tables.';\n",
              "          element.innerHTML = '';\n",
              "          dataTable['output_type'] = 'display_data';\n",
              "          await google.colab.output.renderOutput(dataTable, element);\n",
              "          const docLink = document.createElement('div');\n",
              "          docLink.innerHTML = docLinkHtml;\n",
              "          element.appendChild(docLink);\n",
              "        }\n",
              "      </script>\n",
              "    </div>\n",
              "  </div>\n",
              "  "
            ]
          },
          "metadata": {},
          "execution_count": 210
        }
      ]
    },
    {
      "cell_type": "code",
      "source": [
        "target_data"
      ],
      "metadata": {
        "id": "iwY_OCpBSNpY",
        "colab": {
          "base_uri": "https://localhost:8080/",
          "height": 423
        },
        "outputId": "f849dda1-f904-4568-a7c1-d72628c3f5c4"
      },
      "execution_count": 211,
      "outputs": [
        {
          "output_type": "execute_result",
          "data": {
            "text/plain": [
              "            Id  Probability\n",
              "0            1     0.080807\n",
              "1            2     0.040719\n",
              "2            3     0.011968\n",
              "3            4     0.067640\n",
              "4            5     0.108264\n",
              "...        ...          ...\n",
              "101498  101499     0.045363\n",
              "101499  101500     0.343775\n",
              "101500  101501     0.006970\n",
              "101501  101502     0.121994\n",
              "101502  101503     0.044248\n",
              "\n",
              "[101503 rows x 2 columns]"
            ],
            "text/html": [
              "\n",
              "  <div id=\"df-368ef9b1-8673-4e41-91b3-2e041fed5ab0\">\n",
              "    <div class=\"colab-df-container\">\n",
              "      <div>\n",
              "<style scoped>\n",
              "    .dataframe tbody tr th:only-of-type {\n",
              "        vertical-align: middle;\n",
              "    }\n",
              "\n",
              "    .dataframe tbody tr th {\n",
              "        vertical-align: top;\n",
              "    }\n",
              "\n",
              "    .dataframe thead th {\n",
              "        text-align: right;\n",
              "    }\n",
              "</style>\n",
              "<table border=\"1\" class=\"dataframe\">\n",
              "  <thead>\n",
              "    <tr style=\"text-align: right;\">\n",
              "      <th></th>\n",
              "      <th>Id</th>\n",
              "      <th>Probability</th>\n",
              "    </tr>\n",
              "  </thead>\n",
              "  <tbody>\n",
              "    <tr>\n",
              "      <th>0</th>\n",
              "      <td>1</td>\n",
              "      <td>0.080807</td>\n",
              "    </tr>\n",
              "    <tr>\n",
              "      <th>1</th>\n",
              "      <td>2</td>\n",
              "      <td>0.040719</td>\n",
              "    </tr>\n",
              "    <tr>\n",
              "      <th>2</th>\n",
              "      <td>3</td>\n",
              "      <td>0.011968</td>\n",
              "    </tr>\n",
              "    <tr>\n",
              "      <th>3</th>\n",
              "      <td>4</td>\n",
              "      <td>0.067640</td>\n",
              "    </tr>\n",
              "    <tr>\n",
              "      <th>4</th>\n",
              "      <td>5</td>\n",
              "      <td>0.108264</td>\n",
              "    </tr>\n",
              "    <tr>\n",
              "      <th>...</th>\n",
              "      <td>...</td>\n",
              "      <td>...</td>\n",
              "    </tr>\n",
              "    <tr>\n",
              "      <th>101498</th>\n",
              "      <td>101499</td>\n",
              "      <td>0.045363</td>\n",
              "    </tr>\n",
              "    <tr>\n",
              "      <th>101499</th>\n",
              "      <td>101500</td>\n",
              "      <td>0.343775</td>\n",
              "    </tr>\n",
              "    <tr>\n",
              "      <th>101500</th>\n",
              "      <td>101501</td>\n",
              "      <td>0.006970</td>\n",
              "    </tr>\n",
              "    <tr>\n",
              "      <th>101501</th>\n",
              "      <td>101502</td>\n",
              "      <td>0.121994</td>\n",
              "    </tr>\n",
              "    <tr>\n",
              "      <th>101502</th>\n",
              "      <td>101503</td>\n",
              "      <td>0.044248</td>\n",
              "    </tr>\n",
              "  </tbody>\n",
              "</table>\n",
              "<p>101503 rows × 2 columns</p>\n",
              "</div>\n",
              "      <button class=\"colab-df-convert\" onclick=\"convertToInteractive('df-368ef9b1-8673-4e41-91b3-2e041fed5ab0')\"\n",
              "              title=\"Convert this dataframe to an interactive table.\"\n",
              "              style=\"display:none;\">\n",
              "        \n",
              "  <svg xmlns=\"http://www.w3.org/2000/svg\" height=\"24px\"viewBox=\"0 0 24 24\"\n",
              "       width=\"24px\">\n",
              "    <path d=\"M0 0h24v24H0V0z\" fill=\"none\"/>\n",
              "    <path d=\"M18.56 5.44l.94 2.06.94-2.06 2.06-.94-2.06-.94-.94-2.06-.94 2.06-2.06.94zm-11 1L8.5 8.5l.94-2.06 2.06-.94-2.06-.94L8.5 2.5l-.94 2.06-2.06.94zm10 10l.94 2.06.94-2.06 2.06-.94-2.06-.94-.94-2.06-.94 2.06-2.06.94z\"/><path d=\"M17.41 7.96l-1.37-1.37c-.4-.4-.92-.59-1.43-.59-.52 0-1.04.2-1.43.59L10.3 9.45l-7.72 7.72c-.78.78-.78 2.05 0 2.83L4 21.41c.39.39.9.59 1.41.59.51 0 1.02-.2 1.41-.59l7.78-7.78 2.81-2.81c.8-.78.8-2.07 0-2.86zM5.41 20L4 18.59l7.72-7.72 1.47 1.35L5.41 20z\"/>\n",
              "  </svg>\n",
              "      </button>\n",
              "      \n",
              "  <style>\n",
              "    .colab-df-container {\n",
              "      display:flex;\n",
              "      flex-wrap:wrap;\n",
              "      gap: 12px;\n",
              "    }\n",
              "\n",
              "    .colab-df-convert {\n",
              "      background-color: #E8F0FE;\n",
              "      border: none;\n",
              "      border-radius: 50%;\n",
              "      cursor: pointer;\n",
              "      display: none;\n",
              "      fill: #1967D2;\n",
              "      height: 32px;\n",
              "      padding: 0 0 0 0;\n",
              "      width: 32px;\n",
              "    }\n",
              "\n",
              "    .colab-df-convert:hover {\n",
              "      background-color: #E2EBFA;\n",
              "      box-shadow: 0px 1px 2px rgba(60, 64, 67, 0.3), 0px 1px 3px 1px rgba(60, 64, 67, 0.15);\n",
              "      fill: #174EA6;\n",
              "    }\n",
              "\n",
              "    [theme=dark] .colab-df-convert {\n",
              "      background-color: #3B4455;\n",
              "      fill: #D2E3FC;\n",
              "    }\n",
              "\n",
              "    [theme=dark] .colab-df-convert:hover {\n",
              "      background-color: #434B5C;\n",
              "      box-shadow: 0px 1px 3px 1px rgba(0, 0, 0, 0.15);\n",
              "      filter: drop-shadow(0px 1px 2px rgba(0, 0, 0, 0.3));\n",
              "      fill: #FFFFFF;\n",
              "    }\n",
              "  </style>\n",
              "\n",
              "      <script>\n",
              "        const buttonEl =\n",
              "          document.querySelector('#df-368ef9b1-8673-4e41-91b3-2e041fed5ab0 button.colab-df-convert');\n",
              "        buttonEl.style.display =\n",
              "          google.colab.kernel.accessAllowed ? 'block' : 'none';\n",
              "\n",
              "        async function convertToInteractive(key) {\n",
              "          const element = document.querySelector('#df-368ef9b1-8673-4e41-91b3-2e041fed5ab0');\n",
              "          const dataTable =\n",
              "            await google.colab.kernel.invokeFunction('convertToInteractive',\n",
              "                                                     [key], {});\n",
              "          if (!dataTable) return;\n",
              "\n",
              "          const docLinkHtml = 'Like what you see? Visit the ' +\n",
              "            '<a target=\"_blank\" href=https://colab.research.google.com/notebooks/data_table.ipynb>data table notebook</a>'\n",
              "            + ' to learn more about interactive tables.';\n",
              "          element.innerHTML = '';\n",
              "          dataTable['output_type'] = 'display_data';\n",
              "          await google.colab.output.renderOutput(dataTable, element);\n",
              "          const docLink = document.createElement('div');\n",
              "          docLink.innerHTML = docLinkHtml;\n",
              "          element.appendChild(docLink);\n",
              "        }\n",
              "      </script>\n",
              "    </div>\n",
              "  </div>\n",
              "  "
            ]
          },
          "metadata": {},
          "execution_count": 211
        }
      ]
    },
    {
      "cell_type": "code",
      "source": [
        "# Merge Train and Target dataset together with full_outer join because they are two foreign dataset\n",
        "\n",
        "ds = pd.concat([train_data, target_data], axis = 1)\n",
        "ds"
      ],
      "metadata": {
        "id": "r9ghKfqKSXCY",
        "colab": {
          "base_uri": "https://localhost:8080/",
          "height": 504
        },
        "outputId": "5998d57d-aa73-4e98-c170-cae454b76185"
      },
      "execution_count": 212,
      "outputs": [
        {
          "output_type": "execute_result",
          "data": {
            "text/plain": [
              "        Unnamed: 0  SeriousDlqin2yrs  RevolvingUtilizationOfUnsecuredLines  \\\n",
              "0                1               NaN                              0.885519   \n",
              "1                2               NaN                              0.463295   \n",
              "2                3               NaN                              0.043275   \n",
              "3                4               NaN                              0.280308   \n",
              "4                5               NaN                              1.000000   \n",
              "...            ...               ...                                   ...   \n",
              "101498      101499               NaN                              0.282653   \n",
              "101499      101500               NaN                              0.922156   \n",
              "101500      101501               NaN                              0.081596   \n",
              "101501      101502               NaN                              0.335457   \n",
              "101502      101503               NaN                              0.441842   \n",
              "\n",
              "        age  NumberOfTime30-59DaysPastDueNotWorse    DebtRatio  MonthlyIncome  \\\n",
              "0        43                                     0     0.177513         5700.0   \n",
              "1        57                                     0     0.527237         9141.0   \n",
              "2        59                                     0     0.687648         5083.0   \n",
              "3        38                                     1     0.925961         3200.0   \n",
              "4        27                                     0     0.019917         3865.0   \n",
              "...     ...                                   ...          ...            ...   \n",
              "101498   24                                     0     0.068522         1400.0   \n",
              "101499   36                                     3     0.934217         7615.0   \n",
              "101500   70                                     0   836.000000            NaN   \n",
              "101501   56                                     0  3568.000000            NaN   \n",
              "101502   29                                     0     0.198918         5916.0   \n",
              "\n",
              "        NumberOfOpenCreditLinesAndLoans  NumberOfTimes90DaysLate  \\\n",
              "0                                     4                        0   \n",
              "1                                    15                        0   \n",
              "2                                    12                        0   \n",
              "3                                     7                        0   \n",
              "4                                     4                        0   \n",
              "...                                 ...                      ...   \n",
              "101498                                5                        0   \n",
              "101499                                8                        0   \n",
              "101500                                3                        0   \n",
              "101501                                8                        0   \n",
              "101502                               12                        0   \n",
              "\n",
              "        NumberRealEstateLoansOrLines  NumberOfTime60-89DaysPastDueNotWorse  \\\n",
              "0                                  0                                     0   \n",
              "1                                  4                                     0   \n",
              "2                                  1                                     0   \n",
              "3                                  2                                     0   \n",
              "4                                  0                                     0   \n",
              "...                              ...                                   ...   \n",
              "101498                             0                                     0   \n",
              "101499                             2                                     0   \n",
              "101500                             0                                     0   \n",
              "101501                             2                                     1   \n",
              "101502                             0                                     0   \n",
              "\n",
              "        NumberOfDependents      Id  Probability  \n",
              "0                      0.0       1     0.080807  \n",
              "1                      2.0       2     0.040719  \n",
              "2                      2.0       3     0.011968  \n",
              "3                      0.0       4     0.067640  \n",
              "4                      1.0       5     0.108264  \n",
              "...                    ...     ...          ...  \n",
              "101498                 0.0  101499     0.045363  \n",
              "101499                 4.0  101500     0.343775  \n",
              "101500                 NaN  101501     0.006970  \n",
              "101501                 3.0  101502     0.121994  \n",
              "101502                 0.0  101503     0.044248  \n",
              "\n",
              "[101503 rows x 14 columns]"
            ],
            "text/html": [
              "\n",
              "  <div id=\"df-638b45bb-e7b4-47e9-81bd-b65712369d56\">\n",
              "    <div class=\"colab-df-container\">\n",
              "      <div>\n",
              "<style scoped>\n",
              "    .dataframe tbody tr th:only-of-type {\n",
              "        vertical-align: middle;\n",
              "    }\n",
              "\n",
              "    .dataframe tbody tr th {\n",
              "        vertical-align: top;\n",
              "    }\n",
              "\n",
              "    .dataframe thead th {\n",
              "        text-align: right;\n",
              "    }\n",
              "</style>\n",
              "<table border=\"1\" class=\"dataframe\">\n",
              "  <thead>\n",
              "    <tr style=\"text-align: right;\">\n",
              "      <th></th>\n",
              "      <th>Unnamed: 0</th>\n",
              "      <th>SeriousDlqin2yrs</th>\n",
              "      <th>RevolvingUtilizationOfUnsecuredLines</th>\n",
              "      <th>age</th>\n",
              "      <th>NumberOfTime30-59DaysPastDueNotWorse</th>\n",
              "      <th>DebtRatio</th>\n",
              "      <th>MonthlyIncome</th>\n",
              "      <th>NumberOfOpenCreditLinesAndLoans</th>\n",
              "      <th>NumberOfTimes90DaysLate</th>\n",
              "      <th>NumberRealEstateLoansOrLines</th>\n",
              "      <th>NumberOfTime60-89DaysPastDueNotWorse</th>\n",
              "      <th>NumberOfDependents</th>\n",
              "      <th>Id</th>\n",
              "      <th>Probability</th>\n",
              "    </tr>\n",
              "  </thead>\n",
              "  <tbody>\n",
              "    <tr>\n",
              "      <th>0</th>\n",
              "      <td>1</td>\n",
              "      <td>NaN</td>\n",
              "      <td>0.885519</td>\n",
              "      <td>43</td>\n",
              "      <td>0</td>\n",
              "      <td>0.177513</td>\n",
              "      <td>5700.0</td>\n",
              "      <td>4</td>\n",
              "      <td>0</td>\n",
              "      <td>0</td>\n",
              "      <td>0</td>\n",
              "      <td>0.0</td>\n",
              "      <td>1</td>\n",
              "      <td>0.080807</td>\n",
              "    </tr>\n",
              "    <tr>\n",
              "      <th>1</th>\n",
              "      <td>2</td>\n",
              "      <td>NaN</td>\n",
              "      <td>0.463295</td>\n",
              "      <td>57</td>\n",
              "      <td>0</td>\n",
              "      <td>0.527237</td>\n",
              "      <td>9141.0</td>\n",
              "      <td>15</td>\n",
              "      <td>0</td>\n",
              "      <td>4</td>\n",
              "      <td>0</td>\n",
              "      <td>2.0</td>\n",
              "      <td>2</td>\n",
              "      <td>0.040719</td>\n",
              "    </tr>\n",
              "    <tr>\n",
              "      <th>2</th>\n",
              "      <td>3</td>\n",
              "      <td>NaN</td>\n",
              "      <td>0.043275</td>\n",
              "      <td>59</td>\n",
              "      <td>0</td>\n",
              "      <td>0.687648</td>\n",
              "      <td>5083.0</td>\n",
              "      <td>12</td>\n",
              "      <td>0</td>\n",
              "      <td>1</td>\n",
              "      <td>0</td>\n",
              "      <td>2.0</td>\n",
              "      <td>3</td>\n",
              "      <td>0.011968</td>\n",
              "    </tr>\n",
              "    <tr>\n",
              "      <th>3</th>\n",
              "      <td>4</td>\n",
              "      <td>NaN</td>\n",
              "      <td>0.280308</td>\n",
              "      <td>38</td>\n",
              "      <td>1</td>\n",
              "      <td>0.925961</td>\n",
              "      <td>3200.0</td>\n",
              "      <td>7</td>\n",
              "      <td>0</td>\n",
              "      <td>2</td>\n",
              "      <td>0</td>\n",
              "      <td>0.0</td>\n",
              "      <td>4</td>\n",
              "      <td>0.067640</td>\n",
              "    </tr>\n",
              "    <tr>\n",
              "      <th>4</th>\n",
              "      <td>5</td>\n",
              "      <td>NaN</td>\n",
              "      <td>1.000000</td>\n",
              "      <td>27</td>\n",
              "      <td>0</td>\n",
              "      <td>0.019917</td>\n",
              "      <td>3865.0</td>\n",
              "      <td>4</td>\n",
              "      <td>0</td>\n",
              "      <td>0</td>\n",
              "      <td>0</td>\n",
              "      <td>1.0</td>\n",
              "      <td>5</td>\n",
              "      <td>0.108264</td>\n",
              "    </tr>\n",
              "    <tr>\n",
              "      <th>...</th>\n",
              "      <td>...</td>\n",
              "      <td>...</td>\n",
              "      <td>...</td>\n",
              "      <td>...</td>\n",
              "      <td>...</td>\n",
              "      <td>...</td>\n",
              "      <td>...</td>\n",
              "      <td>...</td>\n",
              "      <td>...</td>\n",
              "      <td>...</td>\n",
              "      <td>...</td>\n",
              "      <td>...</td>\n",
              "      <td>...</td>\n",
              "      <td>...</td>\n",
              "    </tr>\n",
              "    <tr>\n",
              "      <th>101498</th>\n",
              "      <td>101499</td>\n",
              "      <td>NaN</td>\n",
              "      <td>0.282653</td>\n",
              "      <td>24</td>\n",
              "      <td>0</td>\n",
              "      <td>0.068522</td>\n",
              "      <td>1400.0</td>\n",
              "      <td>5</td>\n",
              "      <td>0</td>\n",
              "      <td>0</td>\n",
              "      <td>0</td>\n",
              "      <td>0.0</td>\n",
              "      <td>101499</td>\n",
              "      <td>0.045363</td>\n",
              "    </tr>\n",
              "    <tr>\n",
              "      <th>101499</th>\n",
              "      <td>101500</td>\n",
              "      <td>NaN</td>\n",
              "      <td>0.922156</td>\n",
              "      <td>36</td>\n",
              "      <td>3</td>\n",
              "      <td>0.934217</td>\n",
              "      <td>7615.0</td>\n",
              "      <td>8</td>\n",
              "      <td>0</td>\n",
              "      <td>2</td>\n",
              "      <td>0</td>\n",
              "      <td>4.0</td>\n",
              "      <td>101500</td>\n",
              "      <td>0.343775</td>\n",
              "    </tr>\n",
              "    <tr>\n",
              "      <th>101500</th>\n",
              "      <td>101501</td>\n",
              "      <td>NaN</td>\n",
              "      <td>0.081596</td>\n",
              "      <td>70</td>\n",
              "      <td>0</td>\n",
              "      <td>836.000000</td>\n",
              "      <td>NaN</td>\n",
              "      <td>3</td>\n",
              "      <td>0</td>\n",
              "      <td>0</td>\n",
              "      <td>0</td>\n",
              "      <td>NaN</td>\n",
              "      <td>101501</td>\n",
              "      <td>0.006970</td>\n",
              "    </tr>\n",
              "    <tr>\n",
              "      <th>101501</th>\n",
              "      <td>101502</td>\n",
              "      <td>NaN</td>\n",
              "      <td>0.335457</td>\n",
              "      <td>56</td>\n",
              "      <td>0</td>\n",
              "      <td>3568.000000</td>\n",
              "      <td>NaN</td>\n",
              "      <td>8</td>\n",
              "      <td>0</td>\n",
              "      <td>2</td>\n",
              "      <td>1</td>\n",
              "      <td>3.0</td>\n",
              "      <td>101502</td>\n",
              "      <td>0.121994</td>\n",
              "    </tr>\n",
              "    <tr>\n",
              "      <th>101502</th>\n",
              "      <td>101503</td>\n",
              "      <td>NaN</td>\n",
              "      <td>0.441842</td>\n",
              "      <td>29</td>\n",
              "      <td>0</td>\n",
              "      <td>0.198918</td>\n",
              "      <td>5916.0</td>\n",
              "      <td>12</td>\n",
              "      <td>0</td>\n",
              "      <td>0</td>\n",
              "      <td>0</td>\n",
              "      <td>0.0</td>\n",
              "      <td>101503</td>\n",
              "      <td>0.044248</td>\n",
              "    </tr>\n",
              "  </tbody>\n",
              "</table>\n",
              "<p>101503 rows × 14 columns</p>\n",
              "</div>\n",
              "      <button class=\"colab-df-convert\" onclick=\"convertToInteractive('df-638b45bb-e7b4-47e9-81bd-b65712369d56')\"\n",
              "              title=\"Convert this dataframe to an interactive table.\"\n",
              "              style=\"display:none;\">\n",
              "        \n",
              "  <svg xmlns=\"http://www.w3.org/2000/svg\" height=\"24px\"viewBox=\"0 0 24 24\"\n",
              "       width=\"24px\">\n",
              "    <path d=\"M0 0h24v24H0V0z\" fill=\"none\"/>\n",
              "    <path d=\"M18.56 5.44l.94 2.06.94-2.06 2.06-.94-2.06-.94-.94-2.06-.94 2.06-2.06.94zm-11 1L8.5 8.5l.94-2.06 2.06-.94-2.06-.94L8.5 2.5l-.94 2.06-2.06.94zm10 10l.94 2.06.94-2.06 2.06-.94-2.06-.94-.94-2.06-.94 2.06-2.06.94z\"/><path d=\"M17.41 7.96l-1.37-1.37c-.4-.4-.92-.59-1.43-.59-.52 0-1.04.2-1.43.59L10.3 9.45l-7.72 7.72c-.78.78-.78 2.05 0 2.83L4 21.41c.39.39.9.59 1.41.59.51 0 1.02-.2 1.41-.59l7.78-7.78 2.81-2.81c.8-.78.8-2.07 0-2.86zM5.41 20L4 18.59l7.72-7.72 1.47 1.35L5.41 20z\"/>\n",
              "  </svg>\n",
              "      </button>\n",
              "      \n",
              "  <style>\n",
              "    .colab-df-container {\n",
              "      display:flex;\n",
              "      flex-wrap:wrap;\n",
              "      gap: 12px;\n",
              "    }\n",
              "\n",
              "    .colab-df-convert {\n",
              "      background-color: #E8F0FE;\n",
              "      border: none;\n",
              "      border-radius: 50%;\n",
              "      cursor: pointer;\n",
              "      display: none;\n",
              "      fill: #1967D2;\n",
              "      height: 32px;\n",
              "      padding: 0 0 0 0;\n",
              "      width: 32px;\n",
              "    }\n",
              "\n",
              "    .colab-df-convert:hover {\n",
              "      background-color: #E2EBFA;\n",
              "      box-shadow: 0px 1px 2px rgba(60, 64, 67, 0.3), 0px 1px 3px 1px rgba(60, 64, 67, 0.15);\n",
              "      fill: #174EA6;\n",
              "    }\n",
              "\n",
              "    [theme=dark] .colab-df-convert {\n",
              "      background-color: #3B4455;\n",
              "      fill: #D2E3FC;\n",
              "    }\n",
              "\n",
              "    [theme=dark] .colab-df-convert:hover {\n",
              "      background-color: #434B5C;\n",
              "      box-shadow: 0px 1px 3px 1px rgba(0, 0, 0, 0.15);\n",
              "      filter: drop-shadow(0px 1px 2px rgba(0, 0, 0, 0.3));\n",
              "      fill: #FFFFFF;\n",
              "    }\n",
              "  </style>\n",
              "\n",
              "      <script>\n",
              "        const buttonEl =\n",
              "          document.querySelector('#df-638b45bb-e7b4-47e9-81bd-b65712369d56 button.colab-df-convert');\n",
              "        buttonEl.style.display =\n",
              "          google.colab.kernel.accessAllowed ? 'block' : 'none';\n",
              "\n",
              "        async function convertToInteractive(key) {\n",
              "          const element = document.querySelector('#df-638b45bb-e7b4-47e9-81bd-b65712369d56');\n",
              "          const dataTable =\n",
              "            await google.colab.kernel.invokeFunction('convertToInteractive',\n",
              "                                                     [key], {});\n",
              "          if (!dataTable) return;\n",
              "\n",
              "          const docLinkHtml = 'Like what you see? Visit the ' +\n",
              "            '<a target=\"_blank\" href=https://colab.research.google.com/notebooks/data_table.ipynb>data table notebook</a>'\n",
              "            + ' to learn more about interactive tables.';\n",
              "          element.innerHTML = '';\n",
              "          dataTable['output_type'] = 'display_data';\n",
              "          await google.colab.output.renderOutput(dataTable, element);\n",
              "          const docLink = document.createElement('div');\n",
              "          docLink.innerHTML = docLinkHtml;\n",
              "          element.appendChild(docLink);\n",
              "        }\n",
              "      </script>\n",
              "    </div>\n",
              "  </div>\n",
              "  "
            ]
          },
          "metadata": {},
          "execution_count": 212
        }
      ]
    },
    {
      "cell_type": "code",
      "source": [
        "# Treat missing dataset\n",
        "ds.isnull().sum().sort_values(ascending = False).head(3)"
      ],
      "metadata": {
        "id": "RkUN8jQGK9JM",
        "colab": {
          "base_uri": "https://localhost:8080/"
        },
        "outputId": "5f523a48-c4b7-4e2b-e906-893ab6d6a0a9"
      },
      "execution_count": 213,
      "outputs": [
        {
          "output_type": "execute_result",
          "data": {
            "text/plain": [
              "SeriousDlqin2yrs      101503\n",
              "MonthlyIncome          20103\n",
              "NumberOfDependents      2626\n",
              "dtype: int64"
            ]
          },
          "metadata": {},
          "execution_count": 213
        }
      ]
    },
    {
      "cell_type": "code",
      "source": [
        "# Drop rows with null values\n",
        "\n",
        "ds.drop(['SeriousDlqin2yrs', 'Id'], axis = 1,  inplace = True)\n",
        "ds.dropna(inplace = True) # Drop all the rows with null values\n",
        "ds.info()"
      ],
      "metadata": {
        "id": "giP5ajOlLBNV",
        "colab": {
          "base_uri": "https://localhost:8080/"
        },
        "outputId": "81f5282c-9d94-453c-86a1-5bb261e47cbe"
      },
      "execution_count": 214,
      "outputs": [
        {
          "output_type": "stream",
          "name": "stdout",
          "text": [
            "<class 'pandas.core.frame.DataFrame'>\n",
            "Int64Index: 81400 entries, 0 to 101502\n",
            "Data columns (total 12 columns):\n",
            " #   Column                                Non-Null Count  Dtype  \n",
            "---  ------                                --------------  -----  \n",
            " 0   Unnamed: 0                            81400 non-null  int64  \n",
            " 1   RevolvingUtilizationOfUnsecuredLines  81400 non-null  float64\n",
            " 2   age                                   81400 non-null  int64  \n",
            " 3   NumberOfTime30-59DaysPastDueNotWorse  81400 non-null  int64  \n",
            " 4   DebtRatio                             81400 non-null  float64\n",
            " 5   MonthlyIncome                         81400 non-null  float64\n",
            " 6   NumberOfOpenCreditLinesAndLoans       81400 non-null  int64  \n",
            " 7   NumberOfTimes90DaysLate               81400 non-null  int64  \n",
            " 8   NumberRealEstateLoansOrLines          81400 non-null  int64  \n",
            " 9   NumberOfTime60-89DaysPastDueNotWorse  81400 non-null  int64  \n",
            " 10  NumberOfDependents                    81400 non-null  float64\n",
            " 11  Probability                           81400 non-null  float64\n",
            "dtypes: float64(5), int64(7)\n",
            "memory usage: 8.1 MB\n"
          ]
        }
      ]
    },
    {
      "cell_type": "code",
      "source": [
        "ds.shape"
      ],
      "metadata": {
        "id": "BS1TQ9Eqb1gq",
        "colab": {
          "base_uri": "https://localhost:8080/"
        },
        "outputId": "a02bf525-c42c-44e7-e89c-783c40eb1772"
      },
      "execution_count": 215,
      "outputs": [
        {
          "output_type": "execute_result",
          "data": {
            "text/plain": [
              "(81400, 12)"
            ]
          },
          "metadata": {},
          "execution_count": 215
        }
      ]
    },
    {
      "cell_type": "markdown",
      "source": [
        "---------------------------------------------------\n",
        "<h2 style='font-family:rockwell; color:#09917e'> Preprocessing and Feature Selection:</h2>"
      ],
      "metadata": {
        "id": "5oJoBOX6c2tO"
      }
    },
    {
      "cell_type": "code",
      "source": [
        "dx = ds.copy()"
      ],
      "metadata": {
        "id": "NMHoyv1kc7CR"
      },
      "execution_count": 216,
      "outputs": []
    },
    {
      "cell_type": "code",
      "source": [
        "# Split into target and features\n",
        "target = dx.pop('Probability')\n",
        "features = dx"
      ],
      "metadata": {
        "id": "hztACxziLDRW"
      },
      "execution_count": 217,
      "outputs": []
    },
    {
      "cell_type": "code",
      "source": [
        "# Check the kind of target\n",
        "\n",
        "from sklearn.utils.multiclass import type_of_target\n",
        "type_of_target(target)"
      ],
      "metadata": {
        "id": "j41PrYkaM6Ha",
        "colab": {
          "base_uri": "https://localhost:8080/",
          "height": 36
        },
        "outputId": "a6c340f6-24f9-4c78-ceb0-bac16ba2af02"
      },
      "execution_count": 218,
      "outputs": [
        {
          "output_type": "execute_result",
          "data": {
            "text/plain": [
              "'continuous'"
            ],
            "application/vnd.google.colaboratory.intrinsic+json": {
              "type": "string"
            }
          },
          "metadata": {},
          "execution_count": 218
        }
      ]
    },
    {
      "cell_type": "code",
      "source": [
        "# Using RECURSIVE FEATURE ELIMINATION to tell how many features will be optimal.\n",
        "from sklearn.svm import SVC\n",
        "from sklearn.model_selection import KFold\n",
        "from sklearn.model_selection import StratifiedKFold,RepeatedKFold\n",
        "from sklearn.feature_selection import RFECV\n",
        "from sklearn.ensemble import RandomForestRegressor\n",
        "from sklearn.tree import DecisionTreeRegressor\n",
        "from sklearn.linear_model import Lasso\n",
        "from sklearn.linear_model import LinearRegression\n",
        "import sklearn.metrics\n",
        "import warnings\n",
        "warnings.filterwarnings(\"ignore\")\n",
        "min_features_to_select = 1\n",
        "\n",
        "rfe = LinearRegression() # Instantiate the algo\n",
        "# cv = RepeatedKFold(n_splits=10, n_repeats=3, random_state=1)\n",
        "rfecv  = RFECV(estimator= rfe, step=1, cv= 2, scoring=\"r2\") # We use the r2_score because it's defined for continous output\n",
        "fit = rfecv.fit(features, target)\n",
        "print(\"Optimal number of features : %d\" % rfecv.n_features_)\n",
        "# Plot number of features VS. cross-validation scores\n",
        "plt.figure()\n",
        "plt.xlabel(\"Number of features selected\")\n",
        "plt.ylabel(\"Cross validation score (accuracy)\")\n",
        "plt.plot(\n",
        "    range(min_features_to_select, len(rfecv.grid_scores_) + min_features_to_select),\n",
        "    rfecv.grid_scores_,)\n",
        "plt.show()\n"
      ],
      "metadata": {
        "id": "v3r5ONOPLGaI",
        "colab": {
          "base_uri": "https://localhost:8080/",
          "height": 297
        },
        "outputId": "00459264-52d0-4389-c021-251b360860b9"
      },
      "execution_count": 219,
      "outputs": [
        {
          "output_type": "stream",
          "name": "stdout",
          "text": [
            "Optimal number of features : 9\n"
          ]
        },
        {
          "output_type": "display_data",
          "data": {
            "text/plain": [
              "<Figure size 432x288 with 1 Axes>"
            ],
            "image/png": "[encoded data removed]"
          },
          "metadata": {
            "needs_background": "light"
          }
        }
      ]
    },
    {
      "cell_type": "code",
      "source": [
        " # Now that the optimal number of columns has been known, we can use Recursive Feature Elimination to identify identify the Optimal columns\n",
        " # Create the RFE object and rank the columns\n",
        "from sklearn.feature_selection import RFE\n",
        "\n",
        "rfc = LinearRegression()\n",
        "rfe = RFE(estimator=rfc, n_features_to_select= 9, step=1) \n",
        "fittings1 = rfe.fit(features, target)\n",
        "for i in range(features.shape[1]):\n",
        "\tprint('Column: %d, Selected %s, Rank: %.3f' % (i, rfe.support_[i], rfe.ranking_[i]))"
      ],
      "metadata": {
        "colab": {
          "base_uri": "https://localhost:8080/"
        },
        "id": "l9HGV9mJtgFe",
        "outputId": "925081e7-192f-4e72-9738-17f345cca88a"
      },
      "execution_count": 220,
      "outputs": [
        {
          "output_type": "stream",
          "name": "stdout",
          "text": [
            "Column: 0, Selected False, Rank: 3.000\n",
            "Column: 1, Selected True, Rank: 1.000\n",
            "Column: 2, Selected True, Rank: 1.000\n",
            "Column: 3, Selected True, Rank: 1.000\n",
            "Column: 4, Selected True, Rank: 1.000\n",
            "Column: 5, Selected False, Rank: 2.000\n",
            "Column: 6, Selected True, Rank: 1.000\n",
            "Column: 7, Selected True, Rank: 1.000\n",
            "Column: 8, Selected True, Rank: 1.000\n",
            "Column: 9, Selected True, Rank: 1.000\n",
            "Column: 10, Selected True, Rank: 1.000\n"
          ]
        }
      ]
    },
    {
      "cell_type": "code",
      "source": [
        "# Display the columns to remove based on recursive feature elimination\n",
        "\n",
        "columns_to_remove = features.columns.values[np.logical_not(rfe.support_)]\n",
        "columns_to_remove"
      ],
      "metadata": {
        "colab": {
          "base_uri": "https://localhost:8080/"
        },
        "id": "2IIeKY47t9-D",
        "outputId": "38f69aba-1ec0-4d1e-b5e2-f7609ecfee33"
      },
      "execution_count": 221,
      "outputs": [
        {
          "output_type": "execute_result",
          "data": {
            "text/plain": [
              "array(['Unnamed: 0', 'MonthlyIncome'], dtype=object)"
            ]
          },
          "metadata": {},
          "execution_count": 221
        }
      ]
    },
    {
      "cell_type": "code",
      "source": [
        "new_df = features.drop(['Unnamed: 0'], axis = 1)\n",
        "new_df.shape\n"
      ],
      "metadata": {
        "colab": {
          "base_uri": "https://localhost:8080/"
        },
        "id": "kCLZdDaduFCM",
        "outputId": "6c180044-faf3-4550-b5de-9460c4be5bfc"
      },
      "execution_count": 222,
      "outputs": [
        {
          "output_type": "execute_result",
          "data": {
            "text/plain": [
              "(81400, 10)"
            ]
          },
          "metadata": {},
          "execution_count": 222
        }
      ]
    },
    {
      "cell_type": "markdown",
      "source": [
        "### Train and Test Split"
      ],
      "metadata": {
        "id": "Z-NoqSYzyjJT"
      }
    },
    {
      "cell_type": "code",
      "source": [
        "# Split data into train and test\n",
        "from sklearn.model_selection import train_test_split\n",
        "X_train, X_test, y_train, y_test = train_test_split(new_df, target, train_size = 0.80, random_state = 39)\n",
        "print(f'X_train: {X_train.shape}')\n",
        "print(f'X_test: {X_test.shape}')\n",
        "print('y-train: {}'.format(y_train.shape))\n",
        "print('y_test: {}'.format(y_test.shape))"
      ],
      "metadata": {
        "id": "cRz9JTwfNuWL",
        "colab": {
          "base_uri": "https://localhost:8080/"
        },
        "outputId": "9701263f-55a9-460f-ace9-4ecba34641ec"
      },
      "execution_count": 223,
      "outputs": [
        {
          "output_type": "stream",
          "name": "stdout",
          "text": [
            "X_train: (65120, 10)\n",
            "X_test: (16280, 10)\n",
            "y-train: (65120,)\n",
            "y_test: (16280,)\n"
          ]
        }
      ]
    },
    {
      "cell_type": "markdown",
      "source": [
        "-------------------------------------------------------------------------\n",
        "###Feature Scaling"
      ],
      "metadata": {
        "id": "b8K8A_RoOJvE"
      }
    },
    {
      "cell_type": "code",
      "source": [
        "# We Normalize when the data distribution is not normal\n",
        "# Test for Normality \n",
        "def Normality_Test (a,b,c,d,e):\n",
        "  plt.figure(figsize=(18,2))\n",
        "  plt.subplot(1,5,1)\n",
        "  plt.hist(new_df[a])\n",
        "  plt.title(a + ' histogram')\n",
        "\n",
        "  plt.subplot(1,5,2)\n",
        "  plt.hist(new_df[b])\n",
        "  plt.title(b + ' histogram')\n",
        "\n",
        "  plt.subplot(1,5,3)\n",
        "  plt.hist(new_df[c])\n",
        "  plt.title(c + ' histogram')\n",
        "\n",
        "  plt.subplot(1,5,4)\n",
        "  plt.hist(new_df[d])\n",
        "  plt.title(d + ' histogram')\n",
        "\n",
        "  plt.subplot(1,5,5)\n",
        "  plt.hist(new_df[e])\n",
        "  plt.title(e + ' histogram')\n",
        "\n",
        "Normality_Test('RevolvingUtilizationOfUnsecuredLines', 'age', \n",
        "               'NumberOfTime30-59DaysPastDueNotWorse', 'DebtRatio','NumberOfDependents')\n",
        "Normality_Test('MonthlyIncome', 'NumberOfTime60-89DaysPastDueNotWorse',\n",
        "       'NumberOfOpenCreditLinesAndLoans', 'NumberOfTimes90DaysLate',\n",
        "       'NumberRealEstateLoansOrLines')"
      ],
      "metadata": {
        "colab": {
          "base_uri": "https://localhost:8080/",
          "height": 342
        },
        "id": "feMfqXIxyyQn",
        "outputId": "5305e5ec-baf7-49a8-f6b3-93f4de094789"
      },
      "execution_count": 224,
      "outputs": [
        {
          "output_type": "display_data",
          "data": {
            "text/plain": [
              "<Figure size 1296x144 with 5 Axes>"
            ],
            "image/png": "[encoded data removed]"
          },
          "metadata": {
            "needs_background": "light"
          }
        },
        {
          "output_type": "display_data",
          "data": {
            "text/plain": [
              "<Figure size 1296x144 with 5 Axes>"
            ],
            "image/png": "[encoded data removed]"
          },
          "metadata": {
            "needs_background": "light"
          }
        }
      ]
    },
    {
      "cell_type": "markdown",
      "source": [
        "The Dataset are not a normal distribution, hence we normalize"
      ],
      "metadata": {
        "id": "3mDzITyZ0AIG"
      }
    },
    {
      "cell_type": "code",
      "source": [
        "new_df.max()"
      ],
      "metadata": {
        "colab": {
          "base_uri": "https://localhost:8080/"
        },
        "id": "gf6fQjNCVXB_",
        "outputId": "a3456468-f9c7-4b2c-9e3b-a5f20842d4ac"
      },
      "execution_count": 225,
      "outputs": [
        {
          "output_type": "execute_result",
          "data": {
            "text/plain": [
              "RevolvingUtilizationOfUnsecuredLines      21821.0\n",
              "age                                         101.0\n",
              "NumberOfTime30-59DaysPastDueNotWorse         98.0\n",
              "DebtRatio                                202990.0\n",
              "MonthlyIncome                           7727000.0\n",
              "NumberOfOpenCreditLinesAndLoans              85.0\n",
              "NumberOfTimes90DaysLate                      98.0\n",
              "NumberRealEstateLoansOrLines                 37.0\n",
              "NumberOfTime60-89DaysPastDueNotWorse         98.0\n",
              "NumberOfDependents                           43.0\n",
              "dtype: float64"
            ]
          },
          "metadata": {},
          "execution_count": 225
        }
      ]
    },
    {
      "cell_type": "markdown",
      "source": [
        "None of the column is binary, hence we normalize them to make the values fall within the range of 0 and 1"
      ],
      "metadata": {
        "id": "JbDHKjlhgMJf"
      }
    },
    {
      "cell_type": "markdown",
      "source": [
        "#### Scaling"
      ],
      "metadata": {
        "id": "_cFDUpA3n9Bs"
      }
    },
    {
      "cell_type": "code",
      "source": [
        "selColumns = ['RevolvingUtilizationOfUnsecuredLines', 'age',\n",
        "       'NumberOfTime30-59DaysPastDueNotWorse', 'DebtRatio', 'MonthlyIncome',\n",
        "       'NumberOfOpenCreditLinesAndLoans', 'NumberOfTimes90DaysLate',\n",
        "       'NumberRealEstateLoansOrLines', 'NumberOfTime60-89DaysPastDueNotWorse',\n",
        "       'NumberOfDependents']"
      ],
      "metadata": {
        "id": "zj-Yl2gvkOhx"
      },
      "execution_count": 226,
      "outputs": []
    },
    {
      "cell_type": "code",
      "source": [
        "from sklearn.preprocessing import MinMaxScaler\n",
        "\n",
        "xtrain = X_train.copy()\n",
        "xtest = X_test.copy()\n",
        "for i in selColumns:\n",
        "    scaler = MinMaxScaler().fit(X_train[[i]])\n",
        "    xtrain[i] = scaler.transform(X_train[[i]])\n",
        "    xtest[i] = scaler.transform(X_test[[i]])"
      ],
      "metadata": {
        "id": "6UuNNSAhkcvL"
      },
      "execution_count": 227,
      "outputs": []
    },
    {
      "cell_type": "markdown",
      "source": [
        "------------------------------------------------------------------------------\n",
        "# Modelling\n",
        "- XGBoost\n",
        "- TensorFlow"
      ],
      "metadata": {
        "id": "e4Ev_hucQcKV"
      }
    },
    {
      "cell_type": "code",
      "source": [
        "from sklearn.svm import SVC\n",
        "from xgboost import XGBRegressor\n",
        "\n",
        "# Import Metrics\n",
        "import sklearn.metrics\n",
        "from sklearn.model_selection import cross_val_score, ShuffleSplit"
      ],
      "metadata": {
        "id": "C5WA94GD0lrO"
      },
      "execution_count": 228,
      "outputs": []
    },
    {
      "cell_type": "markdown",
      "source": [
        "--------------------------------------------------------------------------------\n",
        "#### XG_Boost"
      ],
      "metadata": {
        "id": "iaIK6nUlQge1"
      }
    },
    {
      "cell_type": "code",
      "source": [
        "md = XGBRegressor()\n",
        "md_model = md.fit(xtrain, y_train)\n",
        "md_cv = cross_val_score(md, xtrain, y_train,cv = KFold(n_splits=5, random_state=1, shuffle=True), scoring = 'r2')\n",
        "print(\"%0.2f accuracy with a standard deviation of %0.2f\" % (md_cv.mean(), md_cv.std()))"
      ],
      "metadata": {
        "colab": {
          "base_uri": "https://localhost:8080/"
        },
        "id": "LhYuKOtqy_vP",
        "outputId": "d890c5bc-5774-45c0-b80f-537ba3b8278e"
      },
      "execution_count": 229,
      "outputs": [
        {
          "output_type": "stream",
          "name": "stdout",
          "text": [
            "[18:41:30] WARNING: /workspace/src/objective/regression_obj.cu:152: reg:linear is now deprecated in favor of reg:squarederror.\n",
            "[18:41:35] WARNING: /workspace/src/objective/regression_obj.cu:152: reg:linear is now deprecated in favor of reg:squarederror.\n",
            "[18:41:38] WARNING: /workspace/src/objective/regression_obj.cu:152: reg:linear is now deprecated in favor of reg:squarederror.\n",
            "[18:41:41] WARNING: /workspace/src/objective/regression_obj.cu:152: reg:linear is now deprecated in favor of reg:squarederror.\n",
            "[18:41:43] WARNING: /workspace/src/objective/regression_obj.cu:152: reg:linear is now deprecated in favor of reg:squarederror.\n",
            "[18:41:46] WARNING: /workspace/src/objective/regression_obj.cu:152: reg:linear is now deprecated in favor of reg:squarederror.\n",
            "0.98 accuracy with a standard deviation of 0.00\n"
          ]
        }
      ]
    },
    {
      "cell_type": "code",
      "source": [
        "from sklearn.metrics import r2_score, mean_absolute_error\n",
        "import math\n",
        "\n",
        "md_pred = md_model.predict(xtest)\n",
        "scores = r2_score(y_test, md_pred )\n",
        "print('R-Squared value for test score check:', scores )# Check how well the model predict foreign data\n",
        "\n",
        "# Metrics for Measurement\n",
        "print(\"REGRESSOR MODEL PERFORMANCE\")\n",
        "print(\"Mean absolute error(MAE) =\", round(sklearn.metrics.mean_absolute_error(y_test, md_pred), 2))\n",
        "print(\"Mean squared error(MSE) =\", round(sklearn.metrics.mean_squared_error(y_test, md_pred), 2))\n",
        "print(\"Median absolute error =\", round(sklearn.metrics.median_absolute_error(y_test, md_pred), 2))\n",
        "print(\"Explain variance score =\", round(sklearn.metrics.explained_variance_score(y_test, md_pred), 2))\n",
        "print(\"R2 score =\", round(sklearn.metrics.r2_score(y_test, md_pred), 2))"
      ],
      "metadata": {
        "colab": {
          "base_uri": "https://localhost:8080/"
        },
        "id": "WQYbdNY4225G",
        "outputId": "9ef33678-5cce-4b29-a2cf-45098389aabd"
      },
      "execution_count": 230,
      "outputs": [
        {
          "output_type": "stream",
          "name": "stdout",
          "text": [
            "R-Squared value for test score check: 0.9758591117542116\n",
            "REGRESSOR MODEL PERFORMANCE\n",
            "Mean absolute error(MAE) = 0.01\n",
            "Mean squared error(MSE) = 0.0\n",
            "Median absolute error = 0.0\n",
            "Explain variance score = 0.98\n",
            "R2 score = 0.98\n"
          ]
        }
      ]
    },
    {
      "cell_type": "markdown",
      "source": [
        "--------------------------------------------------------------\n",
        "#### Tensor Flow"
      ],
      "metadata": {
        "id": "k1QCAkmIcPi-"
      }
    },
    {
      "cell_type": "code",
      "source": [
        "import tensorflow as tf\n",
        "from keras.models import Sequential\n",
        "from keras.layers import Dense\n",
        "\n",
        "model = Sequential()\n",
        " \n",
        "# Defining the Input layer and FIRST hidden layer, both are same!\n",
        "model.add(Dense(units=16, input_dim=10, kernel_initializer='normal', activation='relu'))\n",
        " \n",
        "# Defining the Second layer of the model\n",
        "model.add(Dense(units=8, kernel_initializer='normal', activation='tanh'))\n",
        "\n",
        "model.add(Dense(1, kernel_initializer='normal'))\n",
        " \n",
        "# Compiling the model\n",
        "model.compile(loss='mean_squared_error', optimizer='adam')\n",
        " \n",
        "# Fitting the ANN to the Training set\n",
        "model.fit(xtrain, y_train ,batch_size = 20, epochs = 30, verbose=1)"
      ],
      "metadata": {
        "colab": {
          "base_uri": "https://localhost:8080/"
        },
        "id": "A3VGfIZoeZs4",
        "outputId": "533b8850-2e6c-414b-fd97-c6fe9e5632bf"
      },
      "execution_count": null,
      "outputs": [
        {
          "output_type": "stream",
          "name": "stdout",
          "text": [
            "Epoch 1/30\n",
            "3256/3256 [==============================] - 7s 2ms/step - loss: 0.0065\n",
            "Epoch 2/30\n",
            "3256/3256 [==============================] - 6s 2ms/step - loss: 0.0019\n",
            "Epoch 3/30\n",
            "3256/3256 [==============================] - 6s 2ms/step - loss: 0.0017\n",
            "Epoch 4/30\n",
            "3256/3256 [==============================] - 6s 2ms/step - loss: 0.0016\n",
            "Epoch 5/30\n",
            "3256/3256 [==============================] - 6s 2ms/step - loss: 0.0016\n",
            "Epoch 6/30\n",
            "3256/3256 [==============================] - 6s 2ms/step - loss: 0.0016\n",
            "Epoch 7/30\n",
            "3256/3256 [==============================] - 7s 2ms/step - loss: 0.0016\n",
            "Epoch 8/30\n",
            "3256/3256 [==============================] - 6s 2ms/step - loss: 0.0016\n",
            "Epoch 9/30\n",
            "3256/3256 [==============================] - 8s 3ms/step - loss: 0.0016\n",
            "Epoch 10/30\n",
            "3256/3256 [==============================] - 6s 2ms/step - loss: 0.0016\n",
            "Epoch 11/30\n",
            "3256/3256 [==============================] - 6s 2ms/step - loss: 0.0016\n",
            "Epoch 12/30\n",
            "3256/3256 [==============================] - 6s 2ms/step - loss: 0.0016\n",
            "Epoch 13/30\n",
            " 948/3256 [=======>......................] - ETA: 4s - loss: 0.0015"
          ]
        }
      ]
    },
    {
      "cell_type": "code",
      "source": [
        "# Reshape the y_test for predictive purposes\n",
        "y = y_test.copy()\n",
        "y = np.array(y)\n",
        "y = y.flatten()\n",
        "\n",
        "# turn y_test into a np_array, run a flatten() \n",
        "# or reshape() on it so it can be used for predictive purpose on  the neural network "
      ],
      "metadata": {
        "id": "4uf8UfNRrybe"
      },
      "execution_count": null,
      "outputs": []
    },
    {
      "cell_type": "code",
      "source": [
        "ann_pred = model.predict(xtest)\n",
        "\n",
        "# Metrics for measurement\n",
        "train_error =  np.abs(y - ann_pred)\n",
        "mean_error = np.mean(train_error)\n",
        "min_error = np.min(train_error)\n",
        "max_error = np.max(train_error)\n",
        "std_error = np.std(train_error)\n",
        "\n",
        "print(\"std_error: \",std_error)\n",
        "print(\"mean_error: \",mean_error)\n",
        "print(\"min_error: \",min_error)\n",
        "print(\"max_error: \",max_error)"
      ],
      "metadata": {
        "id": "_StZVt6_k1kk"
      },
      "execution_count": null,
      "outputs": []
    },
    {
      "cell_type": "code",
      "source": [
        "scores = r2_score(y_test, ann_pred )\n",
        "print('R-Squared value for test score check:', scores )# Check how well the model predict foreign data\n",
        "\n",
        "# Metrics for Measurement\n",
        "print(\"REGRESSOR MODEL PERFORMANCE\")\n",
        "print(\"Mean absolute error(MAE) =\", round(sklearn.metrics.mean_absolute_error(y_test, ann_pred), 2))\n",
        "print(\"Mean squared error(MSE) =\", round(sklearn.metrics.mean_squared_error(y_test, ann_pred), 2))\n",
        "print(\"Median absolute error =\", round(sklearn.metrics.median_absolute_error(y_test, ann_pred), 2))\n",
        "print(\"Explain variance score =\", round(sklearn.metrics.explained_variance_score(y_test, ann_pred), 2))\n",
        "print(\"R2 score =\", round(sklearn.metrics.r2_score(y_test, ann_pred), 2))"
      ],
      "metadata": {
        "id": "5k2oSrOWv0IL"
      },
      "execution_count": null,
      "outputs": []
    },
    {
      "cell_type": "markdown",
      "source": [
        "---------------------------------------------------------------------\n",
        "# COMPARISM BETWEEN THE PREDICTED AND THE ACTUAL OUTPUT"
      ],
      "metadata": {
        "id": "_Ig5HcTqCbG0"
      }
    },
    {
      "cell_type": "code",
      "source": [
        "pred_out = pd.DataFrame(md_pred, columns = ['Predicted output'])\n",
        "actual_out = pd.DataFrame(y, columns = ['Actual output']) # We use reshaped y_test (y)\n",
        "result = pd.concat([pred_out, actual_out], axis = 1)\n",
        "result"
      ],
      "metadata": {
        "id": "Elid2GhuAPLi"
      },
      "execution_count": null,
      "outputs": []
    },
    {
      "cell_type": "code",
      "source": [
        "# Print the result to CSV\n",
        "result.to_csv(('/content/drive/MyDrive/Colab Notebooks/Dataset/GiveMeSomeCredit/Credit_Scoring_Result.csv'))"
      ],
      "metadata": {
        "id": "ODo7jFvkC0QO"
      },
      "execution_count": null,
      "outputs": []
    },
    {
      "cell_type": "code",
      "source": [
        "print(sklearn.metrics.SCORERS.keys())"
      ],
      "metadata": {
        "id": "XqsU2VI3I-Yy"
      },
      "execution_count": null,
      "outputs": []
    }
  ]
}